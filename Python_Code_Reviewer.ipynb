{
  "cells": [
    {
      "cell_type": "markdown",
      "metadata": {
        "id": "view-in-github",
        "colab_type": "text"
      },
      "source": [
        "<a href=\"https://colab.research.google.com/github/pavankumar-25/Innomatics-Data-Science-With-GenAI-/blob/main/Python_Code_Reviewer.ipynb\" target=\"_parent\"><img src=\"https://colab.research.google.com/assets/colab-badge.svg\" alt=\"Open In Colab\"/></a>"
      ]
    },
    {
      "cell_type": "code",
      "execution_count": null,
      "metadata": {
        "id": "DchyLTQPP3d-"
      },
      "outputs": [],
      "source": [
        "! pip install streamlit -q"
      ]
    },
    {
      "cell_type": "code",
      "execution_count": null,
      "metadata": {
        "colab": {
          "base_uri": "https://localhost:8080/"
        },
        "id": "T5AG5ml2eJ1I",
        "outputId": "dc23fe2b-054a-4ae3-a8f9-266c4c82cdbc"
      },
      "outputs": [
        {
          "name": "stdout",
          "output_type": "stream",
          "text": [
            "Overwriting app.py\n"
          ]
        }
      ],
      "source": [
        "%%writefile app.py\n",
        "\n",
        "import streamlit as st\n",
        "import google.generativeai as genai\n",
        "\n",
        "genai.configure(api_key=\"api key\")\n",
        "\n",
        "sys_prompt = \"\"\"\n",
        "You are a proficient Python reviewer with in-depth knowledge of Python, relevant libraries, and programming paradigms.\n",
        "You specialize in code analysis, bug detection, debugging, and optimization.\n",
        "Your role is to provide accurate feedback on potential bugs along with suggestions for fixes.\n",
        "If someone asks queries that are not related to Python code fixing, politely ask them to stay relevant.\n",
        "\"\"\"\n",
        "\n",
        "\n",
        "model = genai.GenerativeModel(\"gemini-1.5-flash\", system_instruction=sys_prompt)\n",
        "\n",
        "\n",
        "st.set_page_config(page_title=\"AI Code Reviewer\", layout=\"centered\")\n",
        "\n",
        "\n",
        "st.title(\"💬 An AI Code Reviewer\")\n",
        "st.write(\"Submit your Python code below, and the AI will analyze it for errors, bugs, and improvements.\")\n",
        "\n",
        "\n",
        "code_input = st.text_area(\"Enter your Python code here:\", height=200)\n",
        "\n",
        "\n",
        "if st.button(\" Review Code\"):\n",
        "    if not code_input.strip():\n",
        "        st.warning(\"Please enter some code before submitting.\")\n",
        "    else:\n",
        "        with st.spinner(\"Analyzing your code...\"):\n",
        "            try:\n",
        "                response = model.generate_content(f\"Review and fix this Python code:\\n{code_input}\")\n",
        "                if response and response.text:\n",
        "                    st.subheader(\" Code Review\")\n",
        "                    st.write(response.text)\n",
        "                else:\n",
        "                    st.error(\"Failed to retrieve a response. Please try again.\")\n",
        "            except Exception as e:\n",
        "                st.error(f\"An error occurred: {e}\")"
      ]
    },
    {
      "cell_type": "code",
      "source": [],
      "metadata": {
        "id": "flO_cwrdJtq8"
      },
      "execution_count": null,
      "outputs": []
    },
    {
      "cell_type": "code",
      "execution_count": null,
      "metadata": {
        "colab": {
          "base_uri": "https://localhost:8080/"
        },
        "id": "TB9p-QPqamYA",
        "outputId": "d7efa8da-c2ea-4921-c851-a89603bb2055"
      },
      "outputs": [
        {
          "name": "stdout",
          "output_type": "stream",
          "text": [
            "34.48.190.180\n"
          ]
        }
      ],
      "source": [
        "!wget -q -O - ipv4.icanhazip.com"
      ]
    },
    {
      "cell_type": "code",
      "execution_count": null,
      "metadata": {
        "colab": {
          "background_save": true,
          "base_uri": "https://localhost:8080/"
        },
        "id": "ZolvQG-k_TXC",
        "outputId": "22663139-4be0-4d22-bf1c-38be23f01935"
      },
      "outputs": [
        {
          "name": "stdout",
          "output_type": "stream",
          "text": [
            "\n",
            "Collecting usage statistics. To deactivate, set browser.gatherUsageStats to false.\n",
            "\u001b[0m\n",
            "\u001b[1G\u001b[0K⠙\u001b[1G\u001b[0K⠹\u001b[1G\u001b[0K⠸\u001b[0m\n",
            "\u001b[34m\u001b[1m  You can now view your Streamlit app in your browser.\u001b[0m\n",
            "\u001b[0m\n",
            "\u001b[34m  Local URL: \u001b[0m\u001b[1mhttp://localhost:8501\u001b[0m\n",
            "\u001b[34m  Network URL: \u001b[0m\u001b[1mhttp://172.28.0.12:8501\u001b[0m\n",
            "\u001b[34m  External URL: \u001b[0m\u001b[1mhttp://34.48.190.180:8501\u001b[0m\n",
            "\u001b[0m\n",
            "\u001b[1G\u001b[0K⠼\u001b[1G\u001b[0K⠴\u001b[1G\u001b[0K⠦\u001b[1G\u001b[0K⠧\u001b[1G\u001b[0Kyour url is: https://all-yaks-yawn.loca.lt\n"
          ]
        }
      ],
      "source": [
        "!streamlit run app.py & npx localtunnel --port 8501"
      ]
    },
    {
      "cell_type": "code",
      "execution_count": null,
      "metadata": {
        "id": "BOPkMSek_hW6"
      },
      "outputs": [],
      "source": []
    }
  ],
  "metadata": {
    "colab": {
      "provenance": [],
      "authorship_tag": "ABX9TyPJfUmjjLDcM3OoHXZLwqqE",
      "include_colab_link": true
    },
    "kernelspec": {
      "display_name": "Python 3",
      "name": "python3"
    },
    "language_info": {
      "name": "python"
    }
  },
  "nbformat": 4,
  "nbformat_minor": 0
}